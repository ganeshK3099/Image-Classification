{
 "cells": [
  {
   "cell_type": "markdown",
   "id": "25399ccd",
   "metadata": {},
   "source": [
    "# Image Classification with CNN"
   ]
  },
  {
   "cell_type": "markdown",
   "id": "37476ea6",
   "metadata": {},
   "source": [
    "In order to train a machine learning model on a set of images, it's often necessary to ensure that all the images are of the same size. This is because most machine learning algorithms require a fixed input size, and working with images of different sizes can introduce challenges during training and inference."
   ]
  },
  {
   "cell_type": "code",
   "execution_count": 1,
   "id": "0842e2e0",
   "metadata": {},
   "outputs": [],
   "source": [
    "#First we will set the same size of an each image\n",
    "#We define the size of the input images, which will be 200x300 pixels.\n",
    "import os\n",
    "from PIL import Image\n",
    "\n",
    "source_folder = 'Images/test/headnshoulders' \n",
    "destination_folder = 'Images/test/headnshoulders'\n",
    "target_size = (200, 300)\n",
    "\n",
    "if not os.path.exists(destination_folder):\n",
    "    os.makedirs(destination_folder)\n",
    "\n",
    "for filename in os.listdir(source_folder):\n",
    "    if filename.endswith('.jpg') or filename.endswith('.png') or filename.endswith('.webp') :\n",
    "        img = Image.open(os.path.join(source_folder, filename))\n",
    "        img = img.resize(target_size, resample=Image.BICUBIC)\n",
    "        img.save(os.path.join(destination_folder, filename))\n"
   ]
  },
  {
   "cell_type": "code",
   "execution_count": 2,
   "id": "8ead4ee7",
   "metadata": {},
   "outputs": [],
   "source": [
    "#importing the required libraries\n",
    "import os\n",
    "import numpy as np\n",
    "import tensorflow as tf\n",
    "from tensorflow.keras import layers, models\n",
    "from tensorflow.keras.preprocessing.image import ImageDataGenerator"
   ]
  },
  {
   "cell_type": "code",
   "execution_count": 3,
   "id": "0741494e",
   "metadata": {},
   "outputs": [],
   "source": [
    "# define the size of the input images\n",
    "img_size = (200, 300)\n",
    "\n",
    "# set the directories for the training and validation\n",
    "train_dir = \"Images/train\"\n",
    "val_dir = \"Images/test\"\n",
    "\n",
    "# define the batch size and number of epochs for training\n",
    "batch_size = 32\n",
    "epochs = 10\n"
   ]
  },
  {
   "cell_type": "code",
   "execution_count": 4,
   "id": "0db0c110",
   "metadata": {},
   "outputs": [
    {
     "name": "stdout",
     "output_type": "stream",
     "text": [
      "Found 40 images belonging to 5 classes.\n"
     ]
    }
   ],
   "source": [
    "# create a data generator for the training data\n",
    "train_datagen = ImageDataGenerator(rescale=1./255)\n",
    "train_generator = train_datagen.flow_from_directory(\n",
    "    train_dir,\n",
    "    target_size=img_size,\n",
    "    batch_size=batch_size,\n",
    "    class_mode=\"categorical\",\n",
    "    classes=[\"8xShampoo\", \"saslic\", \"wow\", \"headnshoulders\", \"mamaearth\"]\n",
    ")"
   ]
  },
  {
   "cell_type": "code",
   "execution_count": 5,
   "id": "6e3b5692",
   "metadata": {},
   "outputs": [
    {
     "name": "stdout",
     "output_type": "stream",
     "text": [
      "Found 29 images belonging to 5 classes.\n"
     ]
    }
   ],
   "source": [
    "# create a data generator for the validation data\n",
    "val_datagen = ImageDataGenerator(rescale=1./255)\n",
    "val_generator = val_datagen.flow_from_directory(\n",
    "    val_dir,\n",
    "    target_size=img_size,\n",
    "    batch_size=batch_size,\n",
    "    class_mode=\"categorical\",\n",
    "    classes=[\"8xShampoo\", \"saslic\", \"wow\", \"headnshoulders\", \"mamaearth\"]\n",
    ")\n"
   ]
  },
  {
   "cell_type": "code",
   "execution_count": 6,
   "id": "ec957a5c",
   "metadata": {},
   "outputs": [],
   "source": [
    "# define the architecture of the CNN model\n",
    "model = models.Sequential([\n",
    "    layers.Conv2D(32, (3, 3), activation=\"relu\", input_shape=(img_size[0], img_size[1], 3)),\n",
    "    layers.MaxPooling2D((2, 2)),\n",
    "    layers.Conv2D(64, (3, 3), activation=\"relu\"),\n",
    "    layers.MaxPooling2D((2, 2)),\n",
    "    layers.Conv2D(128, (3, 3), activation=\"relu\"),\n",
    "    layers.MaxPooling2D((2, 2)),\n",
    "    layers.Flatten(),\n",
    "    layers.Dense(128, activation=\"relu\"),\n",
    "    layers.Dense(5, activation=\"softmax\")\n",
    "])"
   ]
  },
  {
   "cell_type": "code",
   "execution_count": 7,
   "id": "3f58e20e",
   "metadata": {},
   "outputs": [],
   "source": [
    "# compile the model\n",
    "model.compile(\n",
    "    optimizer=\"adam\",\n",
    "    loss=\"categorical_crossentropy\",\n",
    "    metrics=[\"accuracy\"]\n",
    ")"
   ]
  },
  {
   "cell_type": "code",
   "execution_count": 8,
   "id": "34ca7ca8",
   "metadata": {},
   "outputs": [
    {
     "name": "stdout",
     "output_type": "stream",
     "text": [
      "Epoch 1/10\n",
      "2/2 [==============================] - 7s 4s/step - loss: 9.0957 - accuracy: 0.1750 - val_loss: 5.3547 - val_accuracy: 0.3448\n",
      "Epoch 2/10\n",
      "2/2 [==============================] - 4s 3s/step - loss: 4.8732 - accuracy: 0.4000 - val_loss: 1.4648 - val_accuracy: 0.3448\n",
      "Epoch 3/10\n",
      "2/2 [==============================] - 4s 1s/step - loss: 1.4189 - accuracy: 0.6250 - val_loss: 1.5244 - val_accuracy: 0.3103\n",
      "Epoch 4/10\n",
      "2/2 [==============================] - 4s 3s/step - loss: 1.3779 - accuracy: 0.4500 - val_loss: 1.3374 - val_accuracy: 0.4828\n",
      "Epoch 5/10\n",
      "2/2 [==============================] - 4s 4s/step - loss: 0.8484 - accuracy: 0.6500 - val_loss: 1.0235 - val_accuracy: 0.5862\n",
      "Epoch 6/10\n",
      "2/2 [==============================] - 4s 2s/step - loss: 0.6422 - accuracy: 0.8750 - val_loss: 1.0106 - val_accuracy: 0.4828\n",
      "Epoch 7/10\n",
      "2/2 [==============================] - 4s 3s/step - loss: 0.6299 - accuracy: 0.7500 - val_loss: 1.0776 - val_accuracy: 0.5862\n",
      "Epoch 8/10\n",
      "2/2 [==============================] - 4s 3s/step - loss: 0.5686 - accuracy: 0.8000 - val_loss: 0.6514 - val_accuracy: 0.8621\n",
      "Epoch 9/10\n",
      "2/2 [==============================] - 5s 2s/step - loss: 0.2933 - accuracy: 0.9750 - val_loss: 0.8533 - val_accuracy: 0.7931\n",
      "Epoch 10/10\n",
      "2/2 [==============================] - 5s 2s/step - loss: 0.3631 - accuracy: 0.8250 - val_loss: 0.6327 - val_accuracy: 0.8966\n"
     ]
    }
   ],
   "source": [
    "# train the model on the training data and validate on the validation data\n",
    "history = model.fit(\n",
    "    train_generator,\n",
    "    epochs=epochs,\n",
    "    validation_data=val_generator\n",
    ")"
   ]
  },
  {
   "cell_type": "code",
   "execution_count": 9,
   "id": "bc317e35",
   "metadata": {},
   "outputs": [
    {
     "name": "stdout",
     "output_type": "stream",
     "text": [
      "1/1 [==============================] - 1s 849ms/step - loss: 0.6327 - accuracy: 0.8966\n"
     ]
    }
   ],
   "source": [
    "# evaluate the model on the testing data\n",
    "test_loss, test_acc = model.evaluate(val_generator)"
   ]
  },
  {
   "cell_type": "code",
   "execution_count": 10,
   "id": "615d75a1",
   "metadata": {},
   "outputs": [
    {
     "name": "stdout",
     "output_type": "stream",
     "text": [
      "1/1 [==============================] - 0s 279ms/step\n"
     ]
    }
   ],
   "source": [
    "# make predictions on new images using the trained model\n",
    "new_image_path = \"samples/13.jpg\"\n",
    "new_image = tf.keras.preprocessing.image.load_img(new_image_path, target_size=img_size)\n",
    "new_image_array = tf.keras.preprocessing.image.img_to_array(new_image)\n",
    "new_image_array = np.expand_dims(new_image_array, axis=0)\n",
    "prediction = model.predict(new_image_array)"
   ]
  },
  {
   "cell_type": "code",
   "execution_count": 11,
   "id": "b6dec2f5",
   "metadata": {},
   "outputs": [
    {
     "name": "stdout",
     "output_type": "stream",
     "text": [
      "Predicted class: mamaearth\n"
     ]
    }
   ],
   "source": [
    "# get the index of the highest probability in the prediction array\n",
    "predicted_class_index = np.argmax(prediction)\n",
    "\n",
    "# get the class name using the index and the classes list from the data generator\n",
    "classes_list = train_generator.class_indices\n",
    "predicted_class = list(classes_list.keys())[list(classes_list.values()).index(predicted_class_index)]\n",
    "\n",
    "# print the predicted class\n",
    "print(\"Predicted class:\", predicted_class)"
   ]
  },
  {
   "cell_type": "markdown",
   "id": "8b42bc26",
   "metadata": {},
   "source": [
    "# If given input is a folder with different images,then you can run the code below----------------------------->"
   ]
  },
  {
   "cell_type": "code",
   "execution_count": 12,
   "id": "843d1822",
   "metadata": {},
   "outputs": [
    {
     "name": "stdout",
     "output_type": "stream",
     "text": [
      "1/1 [==============================] - 0s 78ms/step\n",
      "Image: 13.jpg predicted class: saslic\n",
      "1/1 [==============================] - 0s 71ms/step\n",
      "Image: 19.jpg predicted class: wow\n",
      "1/1 [==============================] - 0s 89ms/step\n",
      "Image: 20.jpg predicted class: wow\n",
      "1/1 [==============================] - 0s 67ms/step\n",
      "Image: 21.jpg predicted class: wow\n",
      "1/1 [==============================] - 0s 80ms/step\n",
      "Image: 23.jpg predicted class: wow\n",
      "1/1 [==============================] - 0s 92ms/step\n",
      "Image: 24.jpg predicted class: wow\n",
      "1/1 [==============================] - 0s 72ms/step\n",
      "Image: 40144740_3-mamaearth-ubtan-face-wash.webp predicted class: wow\n",
      "1/1 [==============================] - 0s 77ms/step\n",
      "Image: 40197429_1-mamaearth-charcoal-face-scrub-with-charcoal-walnut-for-deep-exfoliation-for-oily-skin-normal-skin.webp predicted class: mamaearth\n",
      "1/1 [==============================] - 0s 79ms/step\n",
      "Image: 5.jpg predicted class: 8xShampoo\n",
      "1/1 [==============================] - 0s 78ms/step\n",
      "Image: 6.jpg predicted class: 8xShampoo\n",
      "1/1 [==============================] - 0s 64ms/step\n",
      "Image: B09HXDBCCW_3.webp predicted class: mamaearth\n",
      "1/1 [==============================] - 0s 76ms/step\n",
      "Image: dd.jpg predicted class: 8xShampoo\n",
      "1/1 [==============================] - 0s 78ms/step\n",
      "Image: download (6).jpg predicted class: headnshoulders\n",
      "1/1 [==============================] - 0s 78ms/step\n",
      "Image: download.jpg predicted class: headnshoulders\n",
      "1/1 [==============================] - 0s 98ms/step\n",
      "Image: ghf.jpg predicted class: 8xShampoo\n",
      "1/1 [==============================] - 0s 62ms/step\n",
      "Image: ghg.jpg predicted class: wow\n",
      "1/1 [==============================] - 0s 59ms/step\n",
      "Image: jhv.jpg predicted class: 8xShampoo\n"
     ]
    }
   ],
   "source": [
    "import os\n",
    "import cv2\n",
    "# Loop through the images in the directory\n",
    "for filename in os.listdir('samples'):\n",
    "    # Load and preprocess the image\n",
    "    img = cv2.imread(os.path.join('samples', filename))\n",
    "    img = cv2.resize(img, (300, 200))\n",
    "    img = cv2.cvtColor(img, cv2.COLOR_BGR2RGB)\n",
    "    img = np.expand_dims(img, axis=0)\n",
    "    img = img / 255.0\n",
    "\n",
    "    # Predict the class probabilities for the image\n",
    "    probs = model.predict(img)[0]\n",
    "    classes=[\"8xShampoo\", \"saslic\", \"wow\", \"headnshoulders\", \"mamaearth\"]\n",
    "    # Get the predicted class label\n",
    "    class_idx = np.argmax(probs)\n",
    "    class_label = classes[class_idx]\n",
    "\n",
    "    # Print the predicted class label\n",
    "    print('Image:', filename, 'predicted class:', class_label)\n"
   ]
  }
 ],
 "metadata": {
  "kernelspec": {
   "display_name": "Python 3",
   "language": "python",
   "name": "python3"
  },
  "language_info": {
   "codemirror_mode": {
    "name": "ipython",
    "version": 3
   },
   "file_extension": ".py",
   "mimetype": "text/x-python",
   "name": "python",
   "nbconvert_exporter": "python",
   "pygments_lexer": "ipython3",
   "version": "3.8.8"
  }
 },
 "nbformat": 4,
 "nbformat_minor": 5
}
